{
  "nbformat": 4,
  "nbformat_minor": 0,
  "metadata": {
    "colab": {
      "name": "FTMLE_Tiki_Categories_SQLite.ipynb",
      "provenance": [],
      "include_colab_link": true
    },
    "kernelspec": {
      "name": "python3",
      "display_name": "Python 3"
    }
  },
  "cells": [
    {
      "cell_type": "markdown",
      "metadata": {
        "id": "view-in-github",
        "colab_type": "text"
      },
      "source": [
        "<a href=\"https://colab.research.google.com/github/Trantracy/web-scraping/blob/master/Tiki_Categories_SQLite.ipynb\" target=\"_parent\"><img src=\"https://colab.research.google.com/assets/colab-badge.svg\" alt=\"Open In Colab\"/></a>"
      ]
    },
    {
      "cell_type": "markdown",
      "metadata": {
        "id": "gFFtNQj4_Vrl",
        "colab_type": "text"
      },
      "source": [
        "# How to crawl Tiki categories and store into SQLite DB"
      ]
    },
    {
      "cell_type": "code",
      "metadata": {
        "id": "ZAgyQzRp_NK2",
        "colab_type": "code",
        "colab": {}
      },
      "source": [
        "from bs4 import BeautifulSoup\n",
        "import requests\n",
        "import sqlite3\n",
        "\n",
        "TIKI_URL = 'https://tiki.vn'"
      ],
      "execution_count": 0,
      "outputs": []
    },
    {
      "cell_type": "code",
      "metadata": {
        "id": "OUMClwwfIo5m",
        "colab_type": "code",
        "colab": {}
      },
      "source": [
        "conn = sqlite3.connect('tiki.db')\n",
        "cur = conn.cursor()"
      ],
      "execution_count": 0,
      "outputs": []
    },
    {
      "cell_type": "code",
      "metadata": {
        "id": "sNN5ZO_XLyRf",
        "colab_type": "code",
        "outputId": "d759ffe4-e1f8-492f-843a-1d78cd473574",
        "colab": {
          "base_uri": "https://localhost:8080/",
          "height": 34
        }
      },
      "source": [
        "cur.execute(\"DROP TABLE categories;\")"
      ],
      "execution_count": 0,
      "outputs": [
        {
          "output_type": "execute_result",
          "data": {
            "text/plain": [
              "<sqlite3.Cursor at 0x7f68db7de420>"
            ]
          },
          "metadata": {
            "tags": []
          },
          "execution_count": 36
        }
      ]
    },
    {
      "cell_type": "code",
      "metadata": {
        "id": "9BLjMutnIumy",
        "colab_type": "code",
        "colab": {}
      },
      "source": [
        "def create_categories_table():\n",
        "    query = \"\"\"\n",
        "        CREATE TABLE IF NOT EXISTS categories (\n",
        "            id INTEGER PRIMARY KEY AUTOINCREMENT,\n",
        "            name VARCHAR(255),\n",
        "            url TEXT, \n",
        "            parent_id INT, \n",
        "            create_at TIMESTAMP DEFAULT CURRENT_TIMESTAMP\n",
        "        )\n",
        "    \"\"\"\n",
        "    try:\n",
        "        cur.execute(query)\n",
        "    except Exception as err:\n",
        "        print('ERROR BY CREATE TABLE', err)\n",
        "create_categories_table()"
      ],
      "execution_count": 0,
      "outputs": []
    },
    {
      "cell_type": "code",
      "metadata": {
        "id": "3ViAsXu6JZ8P",
        "colab_type": "code",
        "colab": {}
      },
      "source": [
        "# cur.execute(\"INSERT INTO categories (name, url, parent_id) VALUES ('test','test_url', 1);\")"
      ],
      "execution_count": 0,
      "outputs": []
    },
    {
      "cell_type": "code",
      "metadata": {
        "id": "guACpbhYKmqP",
        "colab_type": "code",
        "colab": {}
      },
      "source": [
        "def select_all():\n",
        "    return cur.execute('SELECT * FROM categories;').fetchall()\n",
        "\n",
        "def delete_all():\n",
        "    return cur.execute('DELETE FROM categories;')"
      ],
      "execution_count": 0,
      "outputs": []
    },
    {
      "cell_type": "code",
      "metadata": {
        "id": "RB1Zu-wJSI38",
        "colab_type": "code",
        "outputId": "4ec0ddb6-398c-4435-ff9a-c8ad545e8d98",
        "colab": {
          "base_uri": "https://localhost:8080/",
          "height": 34
        }
      },
      "source": [
        "delete_all()\n",
        "select_all()"
      ],
      "execution_count": 0,
      "outputs": [
        {
          "output_type": "execute_result",
          "data": {
            "text/plain": [
              "[]"
            ]
          },
          "metadata": {
            "tags": []
          },
          "execution_count": 57
        }
      ]
    },
    {
      "cell_type": "code",
      "metadata": {
        "id": "RGKAyrdULgeQ",
        "colab_type": "code",
        "colab": {}
      },
      "source": [
        "class Category:\n",
        "    def __init__(self, cat_id, name, url, parent_id):\n",
        "        self.cat_id = cat_id\n",
        "        self.name = name\n",
        "        self.url = url\n",
        "        self.parent_id = parent_id\n",
        "\n",
        "    def __repr__(self):\n",
        "        return \"ID: {}, Name: {}, URL: {}, Parent_id: {}\".format(self.cat_id, self.name, self.url, self.parent_id)\n",
        "\n",
        "    def save_into_db(self):\n",
        "        query = \"\"\"\n",
        "            INSERT INTO categories (name, url, parent_id)\n",
        "            VALUES (?, ?, ?);\n",
        "        \"\"\"\n",
        "        val = (self.name, self.url, self.parent_id)\n",
        "        try:\n",
        "            cur.execute(query, val)\n",
        "            self.cat_id = cur.lastrowid\n",
        "        except Exception as err:\n",
        "            print('ERROR BY INSERT:', err)\n"
      ],
      "execution_count": 0,
      "outputs": []
    },
    {
      "cell_type": "code",
      "metadata": {
        "id": "EZ_9JOI8OiNN",
        "colab_type": "code",
        "colab": {}
      },
      "source": [
        "def get_url(url):\n",
        "    # time.sleep(1)\n",
        "    try:\n",
        "        response = requests.get(url).text\n",
        "        response = BeautifulSoup(response, 'html.parser')\n",
        "        return response\n",
        "    except Exception as err:\n",
        "            print('ERROR BY REQUEST:', err)"
      ],
      "execution_count": 0,
      "outputs": []
    },
    {
      "cell_type": "code",
      "metadata": {
        "id": "EMSIkSH_PwUA",
        "colab_type": "code",
        "colab": {}
      },
      "source": [
        "def get_main_categories(save_db=False):\n",
        "    soup = get_url(TIKI_URL)\n",
        "\n",
        "    result = []\n",
        "    for a in soup.findAll('a', {'class':'MenuItem__MenuLink-tii3xq-1 efuIbv'}):\n",
        "        cat_id = None\n",
        "        name = a.find('span', {'class':'text'}).text\n",
        "        url = a['href']\n",
        "        parent_id = None\n",
        "\n",
        "        cat = Category(cat_id, name, url, parent_id)\n",
        "        if save_db:\n",
        "            cat.save_into_db()\n",
        "        result.append(cat)\n",
        "    return result"
      ],
      "execution_count": 0,
      "outputs": []
    },
    {
      "cell_type": "code",
      "metadata": {
        "id": "fKS1mVnrPyRU",
        "colab_type": "code",
        "colab": {}
      },
      "source": [
        "main_categories = get_main_categories(save_db=True)"
      ],
      "execution_count": 0,
      "outputs": []
    },
    {
      "cell_type": "code",
      "metadata": {
        "id": "gBNhIsk_R3Cc",
        "colab_type": "code",
        "colab": {}
      },
      "source": [
        "def get_sub_categories(category, save_db=False):\n",
        "    name = category.name\n",
        "    url = category.url\n",
        "    result = []\n",
        "\n",
        "    try:\n",
        "        soup = get_url(url)\n",
        "        div_containers = soup.findAll('div', {'class':'list-group-item is-child'})\n",
        "        for div in div_containers:\n",
        "            sub_id = None\n",
        "            sub_name = div.a.text\n",
        "            sub_url = 'http://tiki.vn' + div.a['href']\n",
        "            sub_parent_id = category.cat_id\n",
        "\n",
        "            sub = Category(sub_id, sub_name, sub_url, sub_parent_id)\n",
        "            if save_db:\n",
        "                sub.save_into_db()\n",
        "            result.append(sub)\n",
        "    except Exception as err:\n",
        "        print('ERROR BY GET SUB CATEGORIES:', err)\n",
        "\n",
        "    return result"
      ],
      "execution_count": 0,
      "outputs": []
    },
    {
      "cell_type": "code",
      "metadata": {
        "id": "ynYePwj3VK6w",
        "colab_type": "code",
        "colab": {}
      },
      "source": [
        "main_categories"
      ],
      "execution_count": 0,
      "outputs": []
    },
    {
      "cell_type": "code",
      "metadata": {
        "id": "hCowgL2lVIW0",
        "colab_type": "code",
        "colab": {}
      },
      "source": [
        "cat = main_categories[0]\n",
        "get_sub_categories(cat)"
      ],
      "execution_count": 0,
      "outputs": []
    },
    {
      "cell_type": "code",
      "metadata": {
        "id": "kWRJxDP_Vav0",
        "colab_type": "code",
        "colab": {}
      },
      "source": [
        "from collections import deque\n",
        "\n",
        "de = deque([1, 2, 3])\n",
        "\n",
        "de.extend([4, 5])\n",
        "de.append(6)"
      ],
      "execution_count": 0,
      "outputs": []
    },
    {
      "cell_type": "code",
      "metadata": {
        "id": "86-lo85YWWVD",
        "colab_type": "code",
        "colab": {}
      },
      "source": [
        "def get_all_categories(main_categories):\n",
        "    de = deque(main_categories)\n",
        "    count = 0\n",
        "\n",
        "    while de:\n",
        "        parent_cat = de.popleft()\n",
        "        sub_cats = get_sub_categories(parent_cat, save_db=True)\n",
        "        # print(sub_cats)\n",
        "        de.extend(sub_cats)\n",
        "        count += 1\n",
        "\n",
        "        if count % 100 == 0:\n",
        "            print(count, 'times')\n"
      ],
      "execution_count": 0,
      "outputs": []
    },
    {
      "cell_type": "code",
      "metadata": {
        "id": "xnez1tS2WwR0",
        "colab_type": "code",
        "outputId": "e20a8202-e43a-40b8-a3f5-313b8813fae3",
        "colab": {
          "base_uri": "https://localhost:8080/",
          "height": 1000
        }
      },
      "source": [
        "get_all_categories(main_categories)"
      ],
      "execution_count": 0,
      "outputs": [
        {
          "output_type": "stream",
          "text": [
            "[ID: None, Name: \n",
            "                                Máy tính bảng                                                                (93)\n",
            ", URL: http://tiki.vn/may-tinh-bang/c1794?src=c.1789.hamburger_menu_fly_out_banner, Parent_id: 18, ID: None, Name: \n",
            "                                Máy đọc sách                                                                (33)\n",
            ", URL: http://tiki.vn/may-doc-sach/c28856?src=c.1789.hamburger_menu_fly_out_banner, Parent_id: 18, ID: None, Name: \n",
            "                                Điện thoại Smartphone                                                                (212)\n",
            ", URL: http://tiki.vn/dien-thoai-smartphone/c1795?src=c.1789.hamburger_menu_fly_out_banner, Parent_id: 18, ID: None, Name: \n",
            "                                Điện thoại bàn                                                                (93)\n",
            ", URL: http://tiki.vn/dien-thoai-ban/c8061?src=c.1789.hamburger_menu_fly_out_banner, Parent_id: 18, ID: None, Name: \n",
            "                                Điện thoại phổ thông                                                                (107)\n",
            ", URL: http://tiki.vn/dien-thoai-pho-thong/c1796?src=c.1789.hamburger_menu_fly_out_banner, Parent_id: 18]\n",
            "[ID: None, Name: \n",
            "                                Máy giặt                                                                (766)\n",
            ", URL: http://tiki.vn/may-giat/c3862?src=c.4221.hamburger_menu_fly_out_banner, Parent_id: 19, ID: None, Name: \n",
            "                                Máy lạnh - Máy điều hòa                                                                (703)\n",
            ", URL: http://tiki.vn/may-lanh-may-dieu-hoa/c3865?src=c.4221.hamburger_menu_fly_out_banner, Parent_id: 19, ID: None, Name: \n",
            "                                Máy nước nóng                                                                (326)\n",
            ", URL: http://tiki.vn/may-nuoc-nong/c3866?src=c.4221.hamburger_menu_fly_out_banner, Parent_id: 19, ID: None, Name: \n",
            "                                Máy rửa chén                                                                (65)\n",
            ", URL: http://tiki.vn/may-rua-chen/c3864?src=c.4221.hamburger_menu_fly_out_banner, Parent_id: 19, ID: None, Name: \n",
            "                                Máy sấy quần áo                                                                (58)\n",
            ", URL: http://tiki.vn/may-say-quan-ao/c3863?src=c.4221.hamburger_menu_fly_out_banner, Parent_id: 19, ID: None, Name: \n",
            "                                Phụ kiện điện lạnh                                                                (184)\n",
            ", URL: http://tiki.vn/phu-kien-dien-lanh/c8074?src=c.4221.hamburger_menu_fly_out_banner, Parent_id: 19, ID: None, Name: \n",
            "                                Tivi                                                                (531)\n",
            ", URL: http://tiki.vn/tivi/c5015?src=c.4221.hamburger_menu_fly_out_banner, Parent_id: 19, ID: None, Name: \n",
            "                                Tủ lạnh                                                                (1063)\n",
            ", URL: http://tiki.vn/tu-lanh/c2328?src=c.4221.hamburger_menu_fly_out_banner, Parent_id: 19, ID: None, Name: \n",
            "                                Tủ đông - Tủ mát                                                                (448)\n",
            ", URL: http://tiki.vn/tu-dong-tu-mat/c3868?src=c.4221.hamburger_menu_fly_out_banner, Parent_id: 19, ID: None, Name: \n",
            "                                Tủ ướp rượu                                                                (39)\n",
            ", URL: http://tiki.vn/tu-uop-ruou/c3869?src=c.4221.hamburger_menu_fly_out_banner, Parent_id: 19, ID: None, Name: \n",
            "                                Âm thanh & Phụ kiện Tivi                                                                (2601)\n",
            ", URL: http://tiki.vn/am-thanh-phu-kien-tivi/c26568?src=c.4221.hamburger_menu_fly_out_banner, Parent_id: 19]\n",
            "[]\n",
            "[]\n",
            "[]\n",
            "[]\n",
            "[]\n",
            "[]\n",
            "[]\n",
            "[]\n",
            "[]\n",
            "[]\n",
            "[ID: None, Name: \n",
            "                                Phụ kiện, linh kiện máy giặt                                                                (8)\n",
            ", URL: http://tiki.vn/phu-kien-linh-kien-may-giat/c28890?src=c.4221.hamburger_menu_fly_out_banner, Parent_id: None, ID: None, Name: \n",
            "                                Phụ kiện, linh kiện máy lạnh                                                                (125)\n",
            ", URL: http://tiki.vn/phu-kien-linh-kien-may-lanh/c28886?src=c.4221.hamburger_menu_fly_out_banner, Parent_id: None, ID: None, Name: \n",
            "                                Phụ kiện, linh kiện tủ lạnh                                                                (5)\n",
            ", URL: http://tiki.vn/phu-kien-linh-kien-tu-lanh/c28884?src=c.4221.hamburger_menu_fly_out_banner, Parent_id: None, ID: None, Name: \n",
            "                                Phụ kiện, linh kiện điện lạnh khác                                                                (46)\n",
            ", URL: http://tiki.vn/phu-kien-linh-kien-dien-lanh-khac/c28892?src=c.4221.hamburger_menu_fly_out_banner, Parent_id: None]\n",
            "[ID: None, Name: \n",
            "                                Internet Tivi                                                                (8)\n",
            ", URL: http://tiki.vn/internet-tivi/c11524?src=c.4221.hamburger_menu_fly_out_banner, Parent_id: None, ID: None, Name: \n",
            "                                Smart Tivi - Android Tivi                                                                (417)\n",
            ", URL: http://tiki.vn/smart-tivi-android-tivi/c4239?src=c.4221.hamburger_menu_fly_out_banner, Parent_id: None, ID: None, Name: \n",
            "                                Tivi 4K                                                                (210)\n",
            ", URL: http://tiki.vn/tivi-4k/c6280?src=c.4221.hamburger_menu_fly_out_banner, Parent_id: None, ID: None, Name: \n",
            "                                Tivi OLED                                                                (27)\n",
            ", URL: http://tiki.vn/tivi-oled/c7603?src=c.4221.hamburger_menu_fly_out_banner, Parent_id: None, ID: None, Name: \n",
            "                                Tivi QLED                                                                (32)\n",
            ", URL: http://tiki.vn/tivi-qled/c8950?src=c.4221.hamburger_menu_fly_out_banner, Parent_id: None, ID: None, Name: \n",
            "                                Tivi cao cấp                                                                (66)\n",
            ", URL: http://tiki.vn/tivi-cao-cap/c12900?src=c.4221.hamburger_menu_fly_out_banner, Parent_id: None, ID: None, Name: \n",
            "                                Tivi thường (LED)                                                                (51)\n",
            ", URL: http://tiki.vn/tivi-thuong-led/c4236?src=c.4221.hamburger_menu_fly_out_banner, Parent_id: None]\n",
            "[]\n",
            "[]\n",
            "[]\n",
            "[ID: None, Name: \n",
            "                                Android TV Box, Smart Box                                                                (186)\n",
            ", URL: http://tiki.vn/android-tv-box-smart-box/c7074?src=c.4221.hamburger_menu_fly_out_banner, Parent_id: None, ID: None, Name: \n",
            "                                Bộ giải mã âm thanh DAC                                                                (2)\n",
            ", URL: http://tiki.vn/bo-giai-ma-am-thanh-dac/c28872?src=c.4221.hamburger_menu_fly_out_banner, Parent_id: None, ID: None, Name: \n",
            "                                Dàn âm thanh                                                                 (138)\n",
            ", URL: http://tiki.vn/dan-am-thanh/c4966?src=c.4221.hamburger_menu_fly_out_banner, Parent_id: None, ID: None, Name: \n",
            "                                Loa                                                                (810)\n",
            ", URL: http://tiki.vn/loa/c7075?src=c.4221.hamburger_menu_fly_out_banner, Parent_id: None, ID: None, Name: \n",
            "                                Micro Karaoke - sân khấu                                                                (396)\n",
            ", URL: http://tiki.vn/micro-karaoke-san-khau/c26652?src=c.4221.hamburger_menu_fly_out_banner, Parent_id: None, ID: None, Name: \n",
            "                                Máy radio cassette                                                                (38)\n",
            ", URL: http://tiki.vn/may-radio-cassette/c7078?src=c.4221.hamburger_menu_fly_out_banner, Parent_id: None, ID: None, Name: \n",
            "                                Phụ kiện Tivi                                                                (368)\n",
            ", URL: http://tiki.vn/phu-kien-tivi/c7082?src=c.4221.hamburger_menu_fly_out_banner, Parent_id: None, ID: None, Name: \n",
            "                                Phụ kiện âm thanh                                                                (122)\n",
            ", URL: http://tiki.vn/phu-kien-am-thanh/c8068?src=c.4221.hamburger_menu_fly_out_banner, Parent_id: None, ID: None, Name: \n",
            "                                Receivers, Amplifier, Mixer                                                                (446)\n",
            ", URL: http://tiki.vn/receivers-amplifier-mixer/c7079?src=c.4221.hamburger_menu_fly_out_banner, Parent_id: None, ID: None, Name: \n",
            "                                Thiết bị phát Streaming                                                                (4)\n",
            ", URL: http://tiki.vn/thiet-bi-phat-streaming/c28858?src=c.4221.hamburger_menu_fly_out_banner, Parent_id: None, ID: None, Name: \n",
            "                                Đầu CD, DVD, karaoke, Blu-ray                                                                (92)\n",
            ", URL: http://tiki.vn/dau-cd-dvd-karaoke-blu-ray/c7077?src=c.4221.hamburger_menu_fly_out_banner, Parent_id: None]\n",
            "[]\n",
            "[]\n",
            "[]\n",
            "[]\n",
            "[]\n",
            "[]\n",
            "[]\n",
            "[]\n",
            "[]\n",
            "[]\n",
            "[]\n",
            "[]\n",
            "[]\n",
            "[ID: None, Name: \n",
            "                                Dàn Karaoke                                                                (99)\n",
            ", URL: http://tiki.vn/dan-karaoke/c28870?src=c.4221.hamburger_menu_fly_out_banner, Parent_id: None, ID: None, Name: \n",
            "                                Dàn âm thanh giải trí tại gia                                                                (18)\n",
            ", URL: http://tiki.vn/dan-am-thanh-giai-tri-tai-gia/c28868?src=c.4221.hamburger_menu_fly_out_banner, Parent_id: None]\n",
            "[ID: None, Name: \n",
            "                                Loa Bookshelf                                                                (59)\n",
            ", URL: http://tiki.vn/loa-bookshelf/c11518?src=c.4221.hamburger_menu_fly_out_banner, Parent_id: None, ID: None, Name: \n",
            "                                Loa Sub, siêu trầm                                                                (112)\n",
            ", URL: http://tiki.vn/loa-sub-sieu-tram/c28860?src=c.4221.hamburger_menu_fly_out_banner, Parent_id: None, ID: None, Name: \n",
            "                                Loa karaoke                                                                (465)\n",
            ", URL: http://tiki.vn/loa-karaoke/c11516?src=c.4221.hamburger_menu_fly_out_banner, Parent_id: None, ID: None, Name: \n",
            "                                Loa sân khấu, ngoài trời                                                                (21)\n",
            ", URL: http://tiki.vn/loa-san-khau-ngoai-troi/c28862?src=c.4221.hamburger_menu_fly_out_banner, Parent_id: None, ID: None, Name: \n",
            "                                Loa thanh, Soundbar                                                                (74)\n",
            ", URL: http://tiki.vn/loa-thanh-soundbar/c8067?src=c.4221.hamburger_menu_fly_out_banner, Parent_id: None, ID: None, Name: \n",
            "                                Loa thùng, loa vệ tinh                                                                (78)\n",
            ", URL: http://tiki.vn/loa-thung-loa-ve-tinh/c8064?src=c.4221.hamburger_menu_fly_out_banner, Parent_id: None, ID: None, Name: \n",
            "                                Loa âm trần - âm tường                                                                (3)\n",
            ", URL: http://tiki.vn/loa-am-tran-am-tuong/c28866?src=c.4221.hamburger_menu_fly_out_banner, Parent_id: None]\n",
            "[]\n",
            "[]\n",
            "[ID: None, Name: \n",
            "                                Anten Tivi                                                                (9)\n",
            ", URL: http://tiki.vn/anten-tivi/c26642?src=c.4221.hamburger_menu_fly_out_banner, Parent_id: None, ID: None, Name: \n",
            "                                Cáp Tivi                                                                (48)\n",
            ", URL: http://tiki.vn/cap-tivi/c26638?src=c.4221.hamburger_menu_fly_out_banner, Parent_id: None, ID: None, Name: \n",
            "                                Giá treo Tivi                                                                (132)\n",
            ", URL: http://tiki.vn/gia-treo-tivi/c7084?src=c.4221.hamburger_menu_fly_out_banner, Parent_id: None, ID: None, Name: \n",
            "                                Kính 3D                                                                (1)\n",
            ", URL: http://tiki.vn/kinh-3d/c28882?src=c.4221.hamburger_menu_fly_out_banner, Parent_id: None, ID: None, Name: \n",
            "                                Điều khiển từ xa Tivi                                                                (157)\n",
            ", URL: http://tiki.vn/dieu-khien-tu-xa-tivi/c7083?src=c.4221.hamburger_menu_fly_out_banner, Parent_id: None, ID: None, Name: \n",
            "                                Đầu thu kỹ thuật số                                                                (23)\n",
            ", URL: http://tiki.vn/dau-thu-ky-thuat-so/c26640?src=c.4221.hamburger_menu_fly_out_banner, Parent_id: None]\n",
            "[ID: None, Name: \n",
            "                                Giá treo loa                                                                (39)\n",
            ", URL: http://tiki.vn/gia-treo-loa/c8070?src=c.4221.hamburger_menu_fly_out_banner, Parent_id: None, ID: None, Name: \n",
            "                                Phụ kiện âm thanh khác                                                                (60)\n",
            ", URL: http://tiki.vn/phu-kien-am-thanh-khac/c8073?src=c.4221.hamburger_menu_fly_out_banner, Parent_id: None]\n",
            "[]\n",
            "[]\n",
            "[ID: None, Name: \n",
            "                                Đầu ghi phát CD                                                                (3)\n",
            ", URL: http://tiki.vn/dau-ghi-phat-cd/c28874?src=c.4221.hamburger_menu_fly_out_banner, Parent_id: None, ID: None, Name: \n",
            "                                Đầu ghi phát DVD, Blu-ray                                                                (22)\n",
            ", URL: http://tiki.vn/dau-ghi-phat-dvd-blu-ray/c28876?src=c.4221.hamburger_menu_fly_out_banner, Parent_id: None, ID: None, Name: \n",
            "                                Đầu phát karaoke                                                                (31)\n",
            ", URL: http://tiki.vn/dau-phat-karaoke/c28878?src=c.4221.hamburger_menu_fly_out_banner, Parent_id: None]\n",
            "[]\n",
            "[]\n",
            "[]\n",
            "[]\n",
            "[]\n",
            "[]\n",
            "[]\n",
            "[]\n",
            "[]\n",
            "[]\n",
            "[]\n",
            "[]\n",
            "[]\n",
            "[]\n",
            "[]\n",
            "[]\n",
            "[]\n",
            "[]\n",
            "[]\n",
            "[]\n"
          ],
          "name": "stdout"
        }
      ]
    },
    {
      "cell_type": "code",
      "metadata": {
        "id": "KHBCAkbCXSdI",
        "colab_type": "code",
        "colab": {}
      },
      "source": [
        ""
      ],
      "execution_count": 0,
      "outputs": []
    }
  ]
}